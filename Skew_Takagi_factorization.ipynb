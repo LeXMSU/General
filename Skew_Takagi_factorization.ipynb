{
 "cells": [
  {
   "cell_type": "code",
   "execution_count": 1,
   "metadata": {},
   "outputs": [],
   "source": [
    "# The algorithm of Skew-Takagi factorization\n",
    "\n",
    "using LinearAlgebra;\n",
    "\n",
    "function j_matrix(n)\n",
    "    if iseven(n)\n",
    "        kron(Matrix{Int}(I, ÷(n,2), ÷(n,2)), [0 1; -1 0])\n",
    "    else\n",
    "        hvcat((2,2),kron(Matrix{Int}(I, ÷(n - 1,2), ÷(n - 1,2)), [0 1; -1 0]), zeros(Int8, 2*÷(n - 1,2), 1),zeros(Int8, 1, 2*÷(n - 1,2)),[1])\n",
    "    end\n",
    "end\n",
    "\n",
    "function skew_Takagi(A)\n",
    "    U, λ, V = svd(A)\n",
    "    Diagonal(λ), U*sqrt(U'*conj.(V)*j_matrix(size(A,1)))\n",
    "end\n",
    ";"
   ]
  },
  {
   "cell_type": "code",
   "execution_count": 2,
   "metadata": {},
   "outputs": [
    {
     "name": "stdout",
     "output_type": "stream",
     "text": [
      "Skewsymmetric (accuracy): 0.0\n",
      "Unitarity (accuracy): 9.39813687563624e-15\n",
      "Accuracy of skew-Takagi: 1.205079898875161e-14\n"
     ]
    }
   ],
   "source": [
    "#Testing the algorithm\n",
    "random_skew_sym(n) = ((x -> x - transpose(x))(rand(ComplexF64, (n, n))))\n",
    "\n",
    "# Single- run testing\n",
    "(function(n)\n",
    "    A = random_skew_sym(n)\n",
    "    Λ, U = skew_Takagi(A)\n",
    "\n",
    "    print(\"Skewsymmetric (accuracy): \")\n",
    "    println(norm(A + transpose(A)) )\n",
    "\n",
    "    print(\"Unitarity (accuracy): \")\n",
    "    println(norm(U * U' - I))\n",
    "\n",
    "    print(\"Accuracy of skew-Takagi: \")\n",
    "    println(norm(A - U*Λ*j_matrix(n)*transpose(U)))\n",
    "end)(10)"
   ]
  },
  {
   "cell_type": "code",
   "execution_count": 3,
   "metadata": {},
   "outputs": [
    {
     "data": {
      "text/plain": [
       "16-element Vector{Float64}:\n",
       "  1.5159129\n",
       "  2.5099436\n",
       "  3.2421817\n",
       "  4.5777299\n",
       "  5.7942854\n",
       "  7.3033936\n",
       "  9.0856527\n",
       " 11.9604611\n",
       " 14.7685287\n",
       " 18.3604238\n",
       " 23.2231977\n",
       " 28.3135898\n",
       " 33.5860001\n",
       " 40.6307958\n",
       " 47.9096606\n",
       " 55.4508337"
      ]
     },
     "execution_count": 3,
     "metadata": {},
     "output_type": "execute_result"
    }
   ],
   "source": [
    "#Timing\n",
    "[(@timed skew_Takagi(random_skew_sym(i));).time for i=500:100:2000]"
   ]
  },
  {
   "cell_type": "code",
   "execution_count": 4,
   "metadata": {},
   "outputs": [
    {
     "data": {
      "text/plain": [
       "16-element Vector{Float64}:\n",
       " 7.55283465278524e-12\n",
       " 8.997417491362346e-12\n",
       " 1.1108542142774223e-11\n",
       " 2.734233119687516e-11\n",
       " 1.5593673559130724e-11\n",
       " 1.9082330303034032e-11\n",
       " 1.9061126544420372e-11\n",
       " 2.1883333525282315e-11\n",
       " 4.1461988328713364e-11\n",
       " 2.548387461514827e-11\n",
       " 2.7516437285272253e-11\n",
       " 4.088673253499958e-11\n",
       " 4.034601754800426e-11\n",
       " 2.991751570159375e-10\n",
       " 3.634964364994246e-11\n",
       " 8.87667074272121e-11"
      ]
     },
     "execution_count": 4,
     "metadata": {},
     "output_type": "execute_result"
    }
   ],
   "source": [
    "# Computational error\n",
    "function random_error_test(n)\n",
    "    A = random_skew_sym(n)\n",
    "    Λ, U = skew_Takagi(A)\n",
    "    norm(A - U*Λ*j_matrix(n)*transpose(U))\n",
    "end\n",
    "\n",
    "[random_error_test(i) for i=500:100:2000]"
   ]
  },
  {
   "cell_type": "code",
   "execution_count": 5,
   "metadata": {},
   "outputs": [],
   "source": [
    "# Application to quadratic Hamiltonians \n",
    "\n",
    "# Implementation of fermionic creation  - annihilation operators and quadratic Hamiltonians\n",
    "\n",
    "σ3 = [1  0\n",
    "      0 -1];\n",
    "σp = [0 1\n",
    "      0 0];\n",
    "σm = [0 0\n",
    "      1 0];\n",
    "\n",
    "function cm(n, k)\n",
    "    if (k==1)\n",
    "        kron(σm, Matrix{Int}(I, 2^(n-1), 2^(n-1)))\n",
    "    elseif (1<k<n)\n",
    "        kron(kron(reduce(kron,repeat([σ3],k-1)),σm), Matrix{Int}(I, 2^(n-k), 2^(n-k)))\n",
    "    else\n",
    "        kron(reduce(kron,repeat([σ3],n-1)),σm)\n",
    "    end\n",
    "end\n",
    "\n",
    "function cp(n, k)\n",
    "    if (k==1)\n",
    "        kron(σp, Matrix{Int}(I, 2^(n-1), 2^(n-1)))\n",
    "    elseif (1<k<n)\n",
    "        kron(kron(reduce(kron,repeat([σ3],k-1)),σp), Matrix{Int}(I, 2^(n-k), 2^(n-k)))\n",
    "    else\n",
    "        kron(reduce(kron,repeat([σ3],n-1)),σp)\n",
    "    end\n",
    "end\n",
    "\n",
    "function Ham(A)\n",
    "    n = size(A,1);\n",
    "    sum((A[i,j]*cp(n, i)*cp(n, j) + conj(A[i,j])*cm(n, i)*cm(n, j)) for  i=1:n, j=1:n) * 0.5im\n",
    "end\n",
    ";"
   ]
  },
  {
   "cell_type": "code",
   "execution_count": 6,
   "metadata": {},
   "outputs": [],
   "source": [
    "# Algorithms for Heisenberg evolution based on skew-Takagi factorization and on direct computaion of matrix exponential\n",
    "function ct_Heisenberg(A, t)\n",
    "    n = size(A,1);\n",
    "    Ut = exp(1.0im*Ham(A));\n",
    "    [(Ut * cm(n, k) * Ut') for k=1:n]\n",
    "end\n",
    "\n",
    "function skew_Takagi_based_ct_Heisenberg(A, t)\n",
    "    Λ, U = skew_Takagi(A);\n",
    "    n = size(A,1);\n",
    "    [ sum((U * cos(Λ*t) * U')[i, j] * cm(n, j) + (U * sin(Λ*t) * j_matrix(n) * transpose(U))[i, j] * cp(n, j) for j=1:n) for i=1:n]\n",
    "end\n",
    ";"
   ]
  },
  {
   "cell_type": "code",
   "execution_count": 7,
   "metadata": {},
   "outputs": [
    {
     "data": {
      "text/plain": [
       "4-element Vector{Float64}:\n",
       " 2.06522861658258e-15\n",
       " 3.1030003650644603e-15\n",
       " 3.855959952432236e-15\n",
       " 4.122462465694189e-15"
      ]
     },
     "execution_count": 7,
     "metadata": {},
     "output_type": "execute_result"
    }
   ],
   "source": [
    "# Test that both methods coincide\n",
    "(function(n,t)\n",
    "    A = random_skew_sym(n);\n",
    "    map(norm, ct_Heisenberg(A, t)-skew_Takagi_based_ct_Heisenberg(A, t))\n",
    "end)(4,1)"
   ]
  },
  {
   "cell_type": "code",
   "execution_count": 8,
   "metadata": {},
   "outputs": [
    {
     "data": {
      "text/plain": [
       "10-element Vector{Matrix{Float64}}:\n",
       " [1.0 0.8351782 0.358471]\n",
       " [2.0 0.0001506 4.66e-5]\n",
       " [3.0 0.0004029 0.0001374]\n",
       " [4.0 0.0010698 0.0001967]\n",
       " [5.0 0.005034 0.0015424]\n",
       " [6.0 0.0893884 0.0071683]\n",
       " [7.0 0.3084742 0.0439465]\n",
       " [8.0 2.2697802 0.1435564]\n",
       " [9.0 22.4252152 0.7591133]\n",
       " [10.0 226.5407074 3.0079538]"
      ]
     },
     "execution_count": 8,
     "metadata": {},
     "output_type": "execute_result"
    }
   ],
   "source": [
    "# Timing comparison\n",
    "function timing_comparison(n)\n",
    "    t=1;\n",
    "    A = random_skew_sym(n);\n",
    "    [n (@timed ct_Heisenberg(A, t);).time (@timed skew_Takagi_based_ct_Heisenberg(A, t);).time]\n",
    "end\n",
    "\n",
    "[timing_comparison(n) for n=1:10]"
   ]
  }
 ],
 "metadata": {
  "kernelspec": {
   "display_name": "Julia 1.6.2",
   "language": "julia",
   "name": "julia-1.6"
  },
  "language_info": {
   "file_extension": ".jl",
   "mimetype": "application/julia",
   "name": "julia",
   "version": "1.6.2"
  }
 },
 "nbformat": 4,
 "nbformat_minor": 2
}
